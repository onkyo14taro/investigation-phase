{
 "cells": [
  {
   "cell_type": "markdown",
   "id": "addressed-place",
   "metadata": {},
   "source": [
    "# `data.py`"
   ]
  },
  {
   "cell_type": "markdown",
   "id": "related-hurricane",
   "metadata": {},
   "source": [
    "## Setup"
   ]
  },
  {
   "cell_type": "code",
   "execution_count": null,
   "id": "suitable-procurement",
   "metadata": {},
   "outputs": [],
   "source": [
    "from collections import Counter\n",
    "import math\n",
    "import sys\n",
    "\n",
    "import einops\n",
    "import IPython.display\n",
    "import librosa\n",
    "import librosa.display\n",
    "import matplotlib.pyplot as plt\n",
    "import numpy as np\n",
    "import torch\n",
    "\n",
    "sys.path.append('../scripts/')\n",
    "\n",
    "from const import *\n",
    "from data import SingleTaskDataset\n",
    "from featureinfo import AVAILABLE_FEATURES_INFO"
   ]
  },
  {
   "cell_type": "markdown",
   "id": "technological-vinyl",
   "metadata": {},
   "source": [
    "## `SingleTaskDataset`"
   ]
  },
  {
   "cell_type": "markdown",
   "id": "brief-mercury",
   "metadata": {},
   "source": [
    "### Training phase"
   ]
  },
  {
   "cell_type": "markdown",
   "id": "athletic-commonwealth",
   "metadata": {},
   "source": [
    "If `phase == 'train'`, crop randomly a segment of one second long."
   ]
  },
  {
   "cell_type": "code",
   "execution_count": null,
   "id": "prepared-import",
   "metadata": {},
   "outputs": [],
   "source": [
    "dataset = SingleTaskDataset(\n",
    "    task_name='ACOUSTIC_SCENES',\n",
    "    phase='train',\n",
    ")\n",
    "\n",
    "wave, label, properties = dataset[0]\n",
    "print(f'properties = {properties}')\n",
    "IPython.display.display(IPython.display.Audio(dataset[0][0].numpy().flatten(), rate=SAMPLE_RATE))\n",
    "IPython.display.display(IPython.display.Audio(dataset[0][0].numpy().flatten(), rate=SAMPLE_RATE))\n",
    "IPython.display.display(IPython.display.Audio(dataset[0][0].numpy().flatten(), rate=SAMPLE_RATE))"
   ]
  },
  {
   "cell_type": "markdown",
   "id": "informational-recycling",
   "metadata": {},
   "source": [
    "### Evaluation phase"
   ]
  },
  {
   "cell_type": "markdown",
   "id": "played-association",
   "metadata": {},
   "source": [
    "If `phase == 'eval'`, return the whole audio."
   ]
  },
  {
   "cell_type": "code",
   "execution_count": null,
   "id": "vulnerable-coral",
   "metadata": {},
   "outputs": [],
   "source": [
    "dataset = SingleTaskDataset(\n",
    "    task_name='ACOUSTIC_SCENES',\n",
    "    phase='eval',\n",
    ")\n",
    "\n",
    "wave, label, properties = dataset[0]\n",
    "print(f'properties = {properties}')\n",
    "IPython.display.display(IPython.display.Audio(dataset[0][0].numpy().flatten(), rate=SAMPLE_RATE))"
   ]
  },
  {
   "cell_type": "markdown",
   "id": "concerned-hunger",
   "metadata": {},
   "source": [
    "***\n",
    "\n",
    "*End*"
   ]
  }
 ],
 "metadata": {
  "kernelspec": {
   "display_name": "Python 3 (ipykernel)",
   "language": "python",
   "name": "python3"
  },
  "language_info": {
   "codemirror_mode": {
    "name": "ipython",
    "version": 3
   },
   "file_extension": ".py",
   "mimetype": "text/x-python",
   "name": "python",
   "nbconvert_exporter": "python",
   "pygments_lexer": "ipython3",
   "version": "3.8.10"
  }
 },
 "nbformat": 4,
 "nbformat_minor": 5
}
